{
 "cells": [
  {
   "cell_type": "code",
   "execution_count": 1,
   "metadata": {},
   "outputs": [
    {
     "name": "stderr",
     "output_type": "stream",
     "text": [
      "c:\\Anaconda3\\envs\\pytorch\\lib\\site-packages\\tqdm\\auto.py:21: TqdmWarning: IProgress not found. Please update jupyter and ipywidgets. See https://ipywidgets.readthedocs.io/en/stable/user_install.html\n",
      "  from .autonotebook import tqdm as notebook_tqdm\n",
      "c:\\Anaconda3\\envs\\pytorch\\lib\\site-packages\\Bio\\pairwise2.py:278: BiopythonDeprecationWarning: Bio.pairwise2 has been deprecated, and we intend to remove it in a future release of Biopython. As an alternative, please consider using Bio.Align.PairwiseAligner as a replacement, and contact the Biopython developers if you still need the Bio.pairwise2 module.\n",
      "  warnings.warn(\n"
     ]
    }
   ],
   "source": [
    "import torch\n",
    "import os\n",
    "from tqdm import tqdm\n",
    "from Bio.PDB import PDBParser, PDBIO\n",
    "os.chdir(r\"C:\\Users\\ahdl9\\Documents\\iGEM\\MeshCraftRNA\\nucleic-acid-binding\\script\")\n",
    "from data import *\n",
    "from features import *\n",
    "os.chdir(r\"C:\\Users\\ahdl9\\Documents\\iGEM\\MeshCraftRNA\\nucleic-acid-binding\")"
   ]
  },
  {
   "cell_type": "code",
   "execution_count": 2,
   "metadata": {},
   "outputs": [
    {
     "name": "stdout",
     "output_type": "stream",
     "text": [
      "[Errno 2] No such file or directory: 'Example/structure_data/7PQP.dssp'\n"
     ]
    },
    {
     "ename": "FileNotFoundError",
     "evalue": "[Errno 2] No such file or directory: '../Example/structure_data/dssp_fault.npy'",
     "output_type": "error",
     "traceback": [
      "\u001b[1;31m---------------------------------------------------------------------------\u001b[0m",
      "\u001b[1;31mFileNotFoundError\u001b[0m                         Traceback (most recent call last)",
      "\u001b[1;32mUntitled-1.ipynb Celda 2\u001b[0m line \u001b[0;36m1\n\u001b[0;32m      <a href='vscode-notebook-cell:Untitled-1.ipynb?jupyter-notebook#X20sdW50aXRsZWQ%3D?line=5'>6</a>\u001b[0m test_data \u001b[39m=\u001b[39m pdb2sequence(pdb_input)\n\u001b[0;32m      <a href='vscode-notebook-cell:Untitled-1.ipynb?jupyter-notebook#X20sdW50aXRsZWQ%3D?line=7'>8</a>\u001b[0m aa \u001b[39m=\u001b[39m ProteinGraphDataset(test_data, \u001b[39mrange\u001b[39m(\u001b[39mlen\u001b[39m(test_data)), pdb_input, task_list \u001b[39m=\u001b[39m[\u001b[39m\"\u001b[39m\u001b[39mDNA\u001b[39m\u001b[39m\"\u001b[39m, \u001b[39m\"\u001b[39m\u001b[39mRNA\u001b[39m\u001b[39m\"\u001b[39m])\n\u001b[1;32m---> <a href='vscode-notebook-cell:Untitled-1.ipynb?jupyter-notebook#X20sdW50aXRsZWQ%3D?line=9'>10</a>\u001b[0m aa\u001b[39m.\u001b[39;49m_featurize_as_graph(\u001b[39m0\u001b[39;49m)\n",
      "File \u001b[1;32m~\\Documents\\iGEM\\MeshCraftRNA\\nucleic-acid-binding\\script\\data.py:152\u001b[0m, in \u001b[0;36mProteinGraphDataset._featurize_as_graph\u001b[1;34m(self, idx)\u001b[0m\n\u001b[0;32m    150\u001b[0m     features\u001b[39m.\u001b[39mget_pdb_xyz(\u001b[39mself\u001b[39m\u001b[39m.\u001b[39mpdb_file,\u001b[39mself\u001b[39m\u001b[39m.\u001b[39mdataset, \u001b[39mself\u001b[39m\u001b[39m.\u001b[39mdataset_path)  \u001b[39m#Darle la secuencia y el xyz\u001b[39;00m\n\u001b[0;32m    151\u001b[0m \u001b[39mif\u001b[39;00m \u001b[39mnot\u001b[39;00m os\u001b[39m.\u001b[39mpath\u001b[39m.\u001b[39mexists(\u001b[39mself\u001b[39m\u001b[39m.\u001b[39mdataset_path \u001b[39m+\u001b[39m name \u001b[39m+\u001b[39m \u001b[39m\"\u001b[39m\u001b[39m_dssp.npy\u001b[39m\u001b[39m\"\u001b[39m):\n\u001b[1;32m--> 152\u001b[0m     features\u001b[39m.\u001b[39;49mget_dssp(\u001b[39mself\u001b[39;49m\u001b[39m.\u001b[39;49mdataset, \u001b[39mself\u001b[39;49m\u001b[39m.\u001b[39;49mpdb_file, \u001b[39mself\u001b[39;49m\u001b[39m.\u001b[39;49moutput_dssp)  \u001b[39m#Darle la secuencia y el xyz\u001b[39;00m\n\u001b[0;32m    153\u001b[0m coords \u001b[39m=\u001b[39m np\u001b[39m.\u001b[39mload(\u001b[39mself\u001b[39m\u001b[39m.\u001b[39mdataset_path \u001b[39m+\u001b[39m name \u001b[39m+\u001b[39m \u001b[39m\"\u001b[39m\u001b[39mxyz.npy\u001b[39m\u001b[39m\"\u001b[39m)\n\u001b[0;32m    154\u001b[0m coords \u001b[39m=\u001b[39m torch\u001b[39m.\u001b[39mas_tensor(coords, device\u001b[39m=\u001b[39m\u001b[39mself\u001b[39m\u001b[39m.\u001b[39mdevice, dtype\u001b[39m=\u001b[39mtorch\u001b[39m.\u001b[39mfloat32)\n",
      "File \u001b[1;32m~\\Documents\\iGEM\\MeshCraftRNA\\nucleic-acid-binding\\script\\features.py:203\u001b[0m, in \u001b[0;36mget_dssp\u001b[1;34m(dataset, pdb_file, dssp_path)\u001b[0m\n\u001b[0;32m    201\u001b[0m         fault_name\u001b[39m.\u001b[39mappend(name)\n\u001b[0;32m    202\u001b[0m \u001b[39mif\u001b[39;00m fault_name \u001b[39m!=\u001b[39m []:\n\u001b[1;32m--> 203\u001b[0m     np\u001b[39m.\u001b[39;49msave(\u001b[39m'\u001b[39;49m\u001b[39m../Example/structure_data/dssp_fault.npy\u001b[39;49m\u001b[39m'\u001b[39;49m,fault_name)\n",
      "File \u001b[1;32m<__array_function__ internals>:200\u001b[0m, in \u001b[0;36msave\u001b[1;34m(*args, **kwargs)\u001b[0m\n",
      "File \u001b[1;32mc:\\Anaconda3\\envs\\pytorch\\lib\\site-packages\\numpy\\lib\\npyio.py:518\u001b[0m, in \u001b[0;36msave\u001b[1;34m(file, arr, allow_pickle, fix_imports)\u001b[0m\n\u001b[0;32m    516\u001b[0m     \u001b[39mif\u001b[39;00m \u001b[39mnot\u001b[39;00m file\u001b[39m.\u001b[39mendswith(\u001b[39m'\u001b[39m\u001b[39m.npy\u001b[39m\u001b[39m'\u001b[39m):\n\u001b[0;32m    517\u001b[0m         file \u001b[39m=\u001b[39m file \u001b[39m+\u001b[39m \u001b[39m'\u001b[39m\u001b[39m.npy\u001b[39m\u001b[39m'\u001b[39m\n\u001b[1;32m--> 518\u001b[0m     file_ctx \u001b[39m=\u001b[39m \u001b[39mopen\u001b[39;49m(file, \u001b[39m\"\u001b[39;49m\u001b[39mwb\u001b[39;49m\u001b[39m\"\u001b[39;49m)\n\u001b[0;32m    520\u001b[0m \u001b[39mwith\u001b[39;00m file_ctx \u001b[39mas\u001b[39;00m fid:\n\u001b[0;32m    521\u001b[0m     arr \u001b[39m=\u001b[39m np\u001b[39m.\u001b[39masanyarray(arr)\n",
      "\u001b[1;31mFileNotFoundError\u001b[0m: [Errno 2] No such file or directory: '../Example/structure_data/dssp_fault.npy'"
     ]
    }
   ],
   "source": [
    "dataset_path = '/structure/data'\n",
    "prottrans_path = '/Example/prottrans/'\n",
    "\n",
    "pdb_input = r'Example\\tau.pdb'\n",
    "\n",
    "test_data = pdb2sequence(pdb_input)\n",
    "\n",
    "aa = ProteinGraphDataset(test_data, range(len(test_data)), pdb_input, task_list =[\"DNA\", \"RNA\"])\n",
    "\n",
    "aa._featurize_as_graph(0)"
   ]
  },
  {
   "cell_type": "code",
   "execution_count": 10,
   "metadata": {},
   "outputs": [
    {
     "data": {
      "text/plain": [
       "1"
      ]
     },
     "execution_count": 10,
     "metadata": {},
     "output_type": "execute_result"
    }
   ],
   "source": [
    "os.system(\"{} -i {} -o {}.dssp\".format(r'Script\\dssp', r'Example\\ptau217.pdb', r'Example\\ptau217'))"
   ]
  },
  {
   "cell_type": "code",
   "execution_count": 11,
   "metadata": {},
   "outputs": [
    {
     "name": "stdout",
     "output_type": "stream",
     "text": [
      "Collecting package metadata (current_repodata.json): ...working... done\n",
      "Solving environment: ...working... failed with initial frozen solve. Retrying with flexible solve.\n",
      "Collecting package metadata (repodata.json): ...working... done\n",
      "Solving environment: ...working... failed with initial frozen solve. Retrying with flexible solve.\n"
     ]
    },
    {
     "name": "stderr",
     "output_type": "stream",
     "text": [
      "\n",
      "PackagesNotFoundError: The following packages are not available from current channels:\n",
      "\n",
      "  - dssp\n",
      "\n",
      "Current channels:\n",
      "\n",
      "  - https://conda.anaconda.org/salilab/win-64\n",
      "  - https://conda.anaconda.org/salilab/noarch\n",
      "  - https://repo.anaconda.com/pkgs/main/win-64\n",
      "  - https://repo.anaconda.com/pkgs/main/noarch\n",
      "  - https://repo.anaconda.com/pkgs/r/win-64\n",
      "  - https://repo.anaconda.com/pkgs/r/noarch\n",
      "  - https://repo.anaconda.com/pkgs/msys2/win-64\n",
      "  - https://repo.anaconda.com/pkgs/msys2/noarch\n",
      "\n",
      "To search for alternate channels that may provide the conda package you're\n",
      "looking for, navigate to\n",
      "\n",
      "    https://anaconda.org\n",
      "\n",
      "and use the search bar at the top of the page.\n",
      "\n",
      "\n"
     ]
    }
   ],
   "source": [
    "!conda install -c salilab dssp"
   ]
  },
  {
   "cell_type": "code",
   "execution_count": null,
   "metadata": {},
   "outputs": [],
   "source": [
    "self, dataset, index,pdb_file, task_list,\n",
    "                 num_positional_embeddings=16,\n",
    "                 top_k=30, num_rbf=16, device=\"cpu\""
   ]
  },
  {
   "cell_type": "code",
   "execution_count": null,
   "metadata": {},
   "outputs": [],
   "source": []
  },
  {
   "cell_type": "code",
   "execution_count": 5,
   "metadata": {},
   "outputs": [
    {
     "data": {
      "text/plain": [
       "{'7stb_C': 'SKENLPWVEKYRPETLDEVYGQNEVITTVRKFVDEGKLPHLLFYGPPGTGKTSTIVALAREIYGKNYSNMVLELNASDDRGIDVVRNQIKDFASTRQIFSKGFKLIILDEADAMTNAAQNALRRVIERYTKNTRFCVLANYAHKLTPALLSRCTRFRFQPLPQEAIERRIANVLVHEKLKLSPNAEKALIELSNGDMRRVLNVLQSCKATLDNPDEDEISDDVIYECCGAPRPSDLKAVLKSILEDDWGTAHYTLNKVRSAKGLALIDLIEGIVKILEDYELQNEETRVHLLTKLADIEYSISKGGNDQIQGSAVIGAIKASFENET',\n",
       " '6nsn_A': 'TRGRPRAFDRDTALQRAMDVFWVRGYEGASLAALTEAMEIRPPSLYAAFGSKEGLFREALAHYLGQHGRYRRDVLDGAPSAREGVAELLRETVARFTSDEFPRGCLVVLAALTGTPESEAVRDALSAERGESIRLFRERMRRGIADGDLAADTDMEELATFYATVLFGLSVQAKDRVPRERLLAVVERALRAWP',\n",
       " '6lty_A': 'VLAHRLAEIRKALGHARQADVAALMGVSQARVSKLESGDLSHTELGTLQAYVAALGGHLRIVAEFGENTVELTALEHH',\n",
       " '7ce1_K': 'ERPTLKTIAYMTGLGITTVSRALKDAPDIGAETKERVRLIAQQIGYQPNRAGVRLRTGKTNVIALVLSVDEELMGFTSQMVFGITEVLATTQYHLVVTPHTHAKDSMVPIRYILETGSADGVIISKIEPNDPRVRFMTERKMPFVTHGRSDMGIEHAYHDFDNEAYAYEAVERLAQCGRKRIAIIVPPSRFAFHDHARKGFTRGIRDFGVSEFPLDAITIETPLDKIRDFGKRLMQSDDRPDGIVSISGSSTIALVAGFEAAGVRIGKDIDIVSKQSAEFLNWIQPQIHTVNEDIKLAGRELAKALLARINGAPPETLQSVSRPVWSSMAPKP',\n",
       " '6l8e_K': 'MIIKNYSYARQNLKALMTKVNDDSDMVTVTSTDDKNVVIMSESDYNSMMETLYLQQNPNNAEHLAQSIADLERGKTITKDIDV',\n",
       " '6w1a_A': 'KELGKTLRRLRQGKQVSISSLADEHLSKSQISRFERGESEISCSRLLNLLDKLNITIDEFVSTHSKTHTHFFTLLSRVRKYYAEKNVAKLLKLLEDYAHKDYESTMIKAILSSIEPTVEPSEEEVTRLTDYLFSVEQWGYYEIILLGNCSRFINYNTLFLLTKEMVTSFAYSEQNKTNKTLVTQLSINCLIISIDYSYFDHSHYLIEKIEFLLRDELNFYEKTVFLYVHGYYKLKQGQVSGKDDMRQALQIFKYLGEDALYYSYKEHYRKEVLG',\n",
       " '6zab_A': 'AATHGGRAVIELREKILSGELPGGMRLFEVSTAELLDISRTPVREALSRLTEEGLLNRLPGGGFVVRRFGFADVVDAIEVRGVMEGTAARLAAERGVSKVALEEIDATVQQLDLCFGDRVDDVDFDGYAALNRIFHHQLAALCGSEMIRREVERASSLPFASPSAFLPDKANIGAFRRSLRGAQEQHKAIVAAIVAREGARAEAVAREHSRTARTNLEYMIREAPELIAQVPGLALISD',\n",
       " '7csy_B': 'MATNGMRPIHPGEILRDEFLMEFDISPAALARALKVSAPTVNDIVREQRGISADMAIRLGRYFDTSAQFWMNLQSEYSLATAYAANGKQIEHEIEPL',\n",
       " '7bzg_J': 'SRMDDKRFNCEKELTLAVIGGKWKMLILWHLGKEGTKRFNELKTLIPDITQKILVNQLRELEQDMIVHREVYPVVPPKVEYSLTPHGESLMPILEAMYEWGKGYMELIDI',\n",
       " '7b5y_A': 'EIVTSKYQKIAVAVAQRIANGDYEVGEKLKSRTTIASTFNVSPETARKGLNILADLQILTLKHGSGAIILSKEKAIEFLNQYETSHSVAILKGKIRDNIKAQQQEMEELATLVDDFLLQTRAVSKQYPLAPYEIIVSEDSEHLGKSIGELNVWHQTGATIVAIEHEGKFIVSPGPFSVIEQGDHIFFVGDEDVYARMKTYFNLRMG'}"
      ]
     },
     "execution_count": 5,
     "metadata": {},
     "output_type": "execute_result"
    }
   ],
   "source": [
    "test_data = {}\n",
    "with open(r\"Example\\input.fasta\") as r1:\n",
    "    fasta_ori = r1.readlines()\n",
    "for i in range(len(fasta_ori)):\n",
    "    if fasta_ori[i][0] == \">\":\n",
    "        name = fasta_ori[i].split('>')[1].replace('\\n','')\n",
    "        seq = fasta_ori[i+1].replace('/n','')\n",
    "        test_data[name] = seq.replace('\\n','')\n",
    "test_data"
   ]
  },
  {
   "cell_type": "code",
   "execution_count": 4,
   "metadata": {},
   "outputs": [
    {
     "ename": "NameError",
     "evalue": "name 'test_data' is not defined",
     "output_type": "error",
     "traceback": [
      "\u001b[1;31m---------------------------------------------------------------------------\u001b[0m",
      "\u001b[1;31mNameError\u001b[0m                                 Traceback (most recent call last)",
      "\u001b[1;32mUntitled-1.ipynb Celda 4\u001b[0m line \u001b[0;36m1\n\u001b[1;32m----> <a href='vscode-notebook-cell:Untitled-1.ipynb?jupyter-notebook#X25sdW50aXRsZWQ%3D?line=0'>1</a>\u001b[0m test_data\n",
      "\u001b[1;31mNameError\u001b[0m: name 'test_data' is not defined"
     ]
    }
   ],
   "source": []
  },
  {
   "cell_type": "code",
   "execution_count": null,
   "metadata": {},
   "outputs": [],
   "source": []
  }
 ],
 "metadata": {
  "kernelspec": {
   "display_name": "Tensorflow",
   "language": "python",
   "name": "python3"
  },
  "language_info": {
   "codemirror_mode": {
    "name": "ipython",
    "version": 3
   },
   "file_extension": ".py",
   "mimetype": "text/x-python",
   "name": "python",
   "nbconvert_exporter": "python",
   "pygments_lexer": "ipython3",
   "version": "3.8.16"
  }
 },
 "nbformat": 4,
 "nbformat_minor": 2
}
